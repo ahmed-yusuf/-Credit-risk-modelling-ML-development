{
 "cells": [
  {
   "cell_type": "markdown",
   "id": "174550b7",
   "metadata": {},
   "source": [
    "# Credit Risk Modelling Challenge"
   ]
  },
  {
   "cell_type": "code",
   "execution_count": 364,
   "id": "6aa3a333",
   "metadata": {},
   "outputs": [],
   "source": [
    "#Importing library for Data Analysis,visualization and scientific computing\n",
    "import pandas as pd\n",
    "import numpy as np\n",
    "import matplotlib.pyplot as plt\n",
    "%matplotlib inline\n",
    "import seaborn as sns"
   ]
  },
  {
   "cell_type": "markdown",
   "id": "2ccda1ef",
   "metadata": {},
   "source": [
    "## 1. Data Collection"
   ]
  },
  {
   "cell_type": "code",
   "execution_count": 365,
   "id": "8f1c0dc6",
   "metadata": {},
   "outputs": [],
   "source": [
    "#loading the data into a dataframe\n",
    "loan=pd.read_csv('GermanCredit.csv',index_col=0)"
   ]
  },
  {
   "cell_type": "markdown",
   "id": "119bb6d0",
   "metadata": {},
   "source": [
    "## 2. Data Preprocessing"
   ]
  },
  {
   "cell_type": "code",
   "execution_count": 366,
   "id": "0fcc8385",
   "metadata": {},
   "outputs": [
    {
     "data": {
      "text/html": [
       "<div>\n",
       "<style scoped>\n",
       "    .dataframe tbody tr th:only-of-type {\n",
       "        vertical-align: middle;\n",
       "    }\n",
       "\n",
       "    .dataframe tbody tr th {\n",
       "        vertical-align: top;\n",
       "    }\n",
       "\n",
       "    .dataframe thead th {\n",
       "        text-align: right;\n",
       "    }\n",
       "</style>\n",
       "<table border=\"1\" class=\"dataframe\">\n",
       "  <thead>\n",
       "    <tr style=\"text-align: right;\">\n",
       "      <th></th>\n",
       "      <th>checking_balance</th>\n",
       "      <th>months_loan_duration</th>\n",
       "      <th>credit_history</th>\n",
       "      <th>purpose</th>\n",
       "      <th>amount</th>\n",
       "      <th>savings_balance</th>\n",
       "      <th>employment_length</th>\n",
       "      <th>installment_rate</th>\n",
       "      <th>personal_status</th>\n",
       "      <th>other_debtors</th>\n",
       "      <th>...</th>\n",
       "      <th>age</th>\n",
       "      <th>installment_plan</th>\n",
       "      <th>housing</th>\n",
       "      <th>existing_credits</th>\n",
       "      <th>default</th>\n",
       "      <th>dependents</th>\n",
       "      <th>telephone</th>\n",
       "      <th>foreign_worker</th>\n",
       "      <th>job</th>\n",
       "      <th>gender</th>\n",
       "    </tr>\n",
       "  </thead>\n",
       "  <tbody>\n",
       "    <tr>\n",
       "      <th>0</th>\n",
       "      <td>-43.0</td>\n",
       "      <td>6</td>\n",
       "      <td>critical</td>\n",
       "      <td>radio/tv</td>\n",
       "      <td>1169</td>\n",
       "      <td>NaN</td>\n",
       "      <td>13 years</td>\n",
       "      <td>4</td>\n",
       "      <td>single</td>\n",
       "      <td>none</td>\n",
       "      <td>...</td>\n",
       "      <td>67</td>\n",
       "      <td>none</td>\n",
       "      <td>own</td>\n",
       "      <td>2</td>\n",
       "      <td>0</td>\n",
       "      <td>1</td>\n",
       "      <td>2.349340e+09</td>\n",
       "      <td>yes</td>\n",
       "      <td>skilled employee</td>\n",
       "      <td>male</td>\n",
       "    </tr>\n",
       "    <tr>\n",
       "      <th>1</th>\n",
       "      <td>75.0</td>\n",
       "      <td>48</td>\n",
       "      <td>repaid</td>\n",
       "      <td>radio/tv</td>\n",
       "      <td>5951</td>\n",
       "      <td>89.0</td>\n",
       "      <td>2 years</td>\n",
       "      <td>2</td>\n",
       "      <td>NaN</td>\n",
       "      <td>none</td>\n",
       "      <td>...</td>\n",
       "      <td>22</td>\n",
       "      <td>none</td>\n",
       "      <td>own</td>\n",
       "      <td>1</td>\n",
       "      <td>1</td>\n",
       "      <td>1</td>\n",
       "      <td>NaN</td>\n",
       "      <td>yes</td>\n",
       "      <td>skilled employee</td>\n",
       "      <td>female</td>\n",
       "    </tr>\n",
       "    <tr>\n",
       "      <th>2</th>\n",
       "      <td>NaN</td>\n",
       "      <td>12</td>\n",
       "      <td>critical</td>\n",
       "      <td>education</td>\n",
       "      <td>2096</td>\n",
       "      <td>24.0</td>\n",
       "      <td>5 years</td>\n",
       "      <td>2</td>\n",
       "      <td>single</td>\n",
       "      <td>none</td>\n",
       "      <td>...</td>\n",
       "      <td>49</td>\n",
       "      <td>none</td>\n",
       "      <td>own</td>\n",
       "      <td>1</td>\n",
       "      <td>0</td>\n",
       "      <td>2</td>\n",
       "      <td>NaN</td>\n",
       "      <td>yes</td>\n",
       "      <td>unskilled resident</td>\n",
       "      <td>male</td>\n",
       "    </tr>\n",
       "  </tbody>\n",
       "</table>\n",
       "<p>3 rows × 22 columns</p>\n",
       "</div>"
      ],
      "text/plain": [
       "   checking_balance  months_loan_duration credit_history    purpose  amount  \\\n",
       "0             -43.0                     6       critical   radio/tv    1169   \n",
       "1              75.0                    48         repaid   radio/tv    5951   \n",
       "2               NaN                    12       critical  education    2096   \n",
       "\n",
       "   savings_balance employment_length  installment_rate personal_status  \\\n",
       "0              NaN          13 years                 4          single   \n",
       "1             89.0           2 years                 2             NaN   \n",
       "2             24.0           5 years                 2          single   \n",
       "\n",
       "  other_debtors  ... age installment_plan  housing existing_credits default  \\\n",
       "0          none  ...  67             none      own                2       0   \n",
       "1          none  ...  22             none      own                1       1   \n",
       "2          none  ...  49             none      own                1       0   \n",
       "\n",
       "   dependents     telephone  foreign_worker                 job  gender  \n",
       "0           1  2.349340e+09             yes    skilled employee    male  \n",
       "1           1           NaN             yes    skilled employee  female  \n",
       "2           2           NaN             yes  unskilled resident    male  \n",
       "\n",
       "[3 rows x 22 columns]"
      ]
     },
     "execution_count": 366,
     "metadata": {},
     "output_type": "execute_result"
    }
   ],
   "source": [
    "loan.head(3)"
   ]
  },
  {
   "cell_type": "code",
   "execution_count": 368,
   "id": "1822abd8",
   "metadata": {},
   "outputs": [
    {
     "data": {
      "text/plain": [
       "(1000, 22)"
      ]
     },
     "execution_count": 368,
     "metadata": {},
     "output_type": "execute_result"
    }
   ],
   "source": [
    "#The dimensionality of the variables\n",
    "loan.shape"
   ]
  },
  {
   "cell_type": "code",
   "execution_count": 369,
   "id": "c031bd61",
   "metadata": {
    "scrolled": true
   },
   "outputs": [
    {
     "name": "stdout",
     "output_type": "stream",
     "text": [
      "<class 'pandas.core.frame.DataFrame'>\n",
      "Int64Index: 1000 entries, 0 to 999\n",
      "Data columns (total 22 columns):\n",
      " #   Column                Non-Null Count  Dtype  \n",
      "---  ------                --------------  -----  \n",
      " 0   checking_balance      606 non-null    float64\n",
      " 1   months_loan_duration  1000 non-null   int64  \n",
      " 2   credit_history        1000 non-null   object \n",
      " 3   purpose               1000 non-null   object \n",
      " 4   amount                1000 non-null   int64  \n",
      " 5   savings_balance       817 non-null    float64\n",
      " 6   employment_length     938 non-null    object \n",
      " 7   installment_rate      1000 non-null   int64  \n",
      " 8   personal_status       690 non-null    object \n",
      " 9   other_debtors         1000 non-null   object \n",
      " 10  residence_history     870 non-null    object \n",
      " 11  property              1000 non-null   object \n",
      " 12  age                   1000 non-null   int64  \n",
      " 13  installment_plan      1000 non-null   object \n",
      " 14  housing               1000 non-null   object \n",
      " 15  existing_credits      1000 non-null   int64  \n",
      " 16  default               1000 non-null   int64  \n",
      " 17  dependents            1000 non-null   int64  \n",
      " 18  telephone             404 non-null    float64\n",
      " 19  foreign_worker        1000 non-null   object \n",
      " 20  job                   1000 non-null   object \n",
      " 21  gender                1000 non-null   object \n",
      "dtypes: float64(3), int64(7), object(12)\n",
      "memory usage: 179.7+ KB\n"
     ]
    }
   ],
   "source": [
    "#checking basic information of all variables in the dataframe\n",
    "loan.info()"
   ]
  },
  {
   "cell_type": "code",
   "execution_count": 370,
   "id": "76bf315c",
   "metadata": {},
   "outputs": [
    {
     "data": {
      "text/html": [
       "<div>\n",
       "<style scoped>\n",
       "    .dataframe tbody tr th:only-of-type {\n",
       "        vertical-align: middle;\n",
       "    }\n",
       "\n",
       "    .dataframe tbody tr th {\n",
       "        vertical-align: top;\n",
       "    }\n",
       "\n",
       "    .dataframe thead th {\n",
       "        text-align: right;\n",
       "    }\n",
       "</style>\n",
       "<table border=\"1\" class=\"dataframe\">\n",
       "  <thead>\n",
       "    <tr style=\"text-align: right;\">\n",
       "      <th></th>\n",
       "      <th>checking_balance</th>\n",
       "      <th>months_loan_duration</th>\n",
       "      <th>amount</th>\n",
       "      <th>savings_balance</th>\n",
       "      <th>installment_rate</th>\n",
       "      <th>age</th>\n",
       "      <th>existing_credits</th>\n",
       "      <th>default</th>\n",
       "      <th>dependents</th>\n",
       "      <th>telephone</th>\n",
       "    </tr>\n",
       "  </thead>\n",
       "  <tbody>\n",
       "    <tr>\n",
       "      <th>count</th>\n",
       "      <td>606.000000</td>\n",
       "      <td>1000.000000</td>\n",
       "      <td>1000.000000</td>\n",
       "      <td>817.000000</td>\n",
       "      <td>1000.000000</td>\n",
       "      <td>1000.000000</td>\n",
       "      <td>1000.000000</td>\n",
       "      <td>1000.000000</td>\n",
       "      <td>1000.000000</td>\n",
       "      <td>4.040000e+02</td>\n",
       "    </tr>\n",
       "    <tr>\n",
       "      <th>mean</th>\n",
       "      <td>97.245875</td>\n",
       "      <td>20.903000</td>\n",
       "      <td>3271.258000</td>\n",
       "      <td>781.570379</td>\n",
       "      <td>2.973000</td>\n",
       "      <td>35.546000</td>\n",
       "      <td>1.407000</td>\n",
       "      <td>0.300000</td>\n",
       "      <td>1.155000</td>\n",
       "      <td>2.344914e+09</td>\n",
       "    </tr>\n",
       "    <tr>\n",
       "      <th>std</th>\n",
       "      <td>206.923583</td>\n",
       "      <td>12.058814</td>\n",
       "      <td>2822.736876</td>\n",
       "      <td>3016.983785</td>\n",
       "      <td>1.118715</td>\n",
       "      <td>11.375469</td>\n",
       "      <td>0.577654</td>\n",
       "      <td>0.458487</td>\n",
       "      <td>0.362086</td>\n",
       "      <td>3.008193e+06</td>\n",
       "    </tr>\n",
       "    <tr>\n",
       "      <th>min</th>\n",
       "      <td>-50.000000</td>\n",
       "      <td>4.000000</td>\n",
       "      <td>250.000000</td>\n",
       "      <td>0.000000</td>\n",
       "      <td>1.000000</td>\n",
       "      <td>19.000000</td>\n",
       "      <td>1.000000</td>\n",
       "      <td>0.000000</td>\n",
       "      <td>1.000000</td>\n",
       "      <td>2.340000e+09</td>\n",
       "    </tr>\n",
       "    <tr>\n",
       "      <th>25%</th>\n",
       "      <td>-23.000000</td>\n",
       "      <td>12.000000</td>\n",
       "      <td>1365.500000</td>\n",
       "      <td>31.000000</td>\n",
       "      <td>2.000000</td>\n",
       "      <td>27.000000</td>\n",
       "      <td>1.000000</td>\n",
       "      <td>0.000000</td>\n",
       "      <td>1.000000</td>\n",
       "      <td>2.342211e+09</td>\n",
       "    </tr>\n",
       "    <tr>\n",
       "      <th>50%</th>\n",
       "      <td>24.000000</td>\n",
       "      <td>18.000000</td>\n",
       "      <td>2319.500000</td>\n",
       "      <td>64.000000</td>\n",
       "      <td>3.000000</td>\n",
       "      <td>33.000000</td>\n",
       "      <td>1.000000</td>\n",
       "      <td>0.000000</td>\n",
       "      <td>1.000000</td>\n",
       "      <td>2.344804e+09</td>\n",
       "    </tr>\n",
       "    <tr>\n",
       "      <th>75%</th>\n",
       "      <td>131.750000</td>\n",
       "      <td>24.000000</td>\n",
       "      <td>3972.250000</td>\n",
       "      <td>128.000000</td>\n",
       "      <td>4.000000</td>\n",
       "      <td>42.000000</td>\n",
       "      <td>2.000000</td>\n",
       "      <td>1.000000</td>\n",
       "      <td>1.000000</td>\n",
       "      <td>2.347731e+09</td>\n",
       "    </tr>\n",
       "    <tr>\n",
       "      <th>max</th>\n",
       "      <td>999.000000</td>\n",
       "      <td>72.000000</td>\n",
       "      <td>18424.000000</td>\n",
       "      <td>19972.000000</td>\n",
       "      <td>4.000000</td>\n",
       "      <td>75.000000</td>\n",
       "      <td>4.000000</td>\n",
       "      <td>1.000000</td>\n",
       "      <td>2.000000</td>\n",
       "      <td>2.349994e+09</td>\n",
       "    </tr>\n",
       "  </tbody>\n",
       "</table>\n",
       "</div>"
      ],
      "text/plain": [
       "       checking_balance  months_loan_duration        amount  savings_balance  \\\n",
       "count        606.000000           1000.000000   1000.000000       817.000000   \n",
       "mean          97.245875             20.903000   3271.258000       781.570379   \n",
       "std          206.923583             12.058814   2822.736876      3016.983785   \n",
       "min          -50.000000              4.000000    250.000000         0.000000   \n",
       "25%          -23.000000             12.000000   1365.500000        31.000000   \n",
       "50%           24.000000             18.000000   2319.500000        64.000000   \n",
       "75%          131.750000             24.000000   3972.250000       128.000000   \n",
       "max          999.000000             72.000000  18424.000000     19972.000000   \n",
       "\n",
       "       installment_rate          age  existing_credits      default  \\\n",
       "count       1000.000000  1000.000000       1000.000000  1000.000000   \n",
       "mean           2.973000    35.546000          1.407000     0.300000   \n",
       "std            1.118715    11.375469          0.577654     0.458487   \n",
       "min            1.000000    19.000000          1.000000     0.000000   \n",
       "25%            2.000000    27.000000          1.000000     0.000000   \n",
       "50%            3.000000    33.000000          1.000000     0.000000   \n",
       "75%            4.000000    42.000000          2.000000     1.000000   \n",
       "max            4.000000    75.000000          4.000000     1.000000   \n",
       "\n",
       "        dependents     telephone  \n",
       "count  1000.000000  4.040000e+02  \n",
       "mean      1.155000  2.344914e+09  \n",
       "std       0.362086  3.008193e+06  \n",
       "min       1.000000  2.340000e+09  \n",
       "25%       1.000000  2.342211e+09  \n",
       "50%       1.000000  2.344804e+09  \n",
       "75%       1.000000  2.347731e+09  \n",
       "max       2.000000  2.349994e+09  "
      ]
     },
     "execution_count": 370,
     "metadata": {},
     "output_type": "execute_result"
    }
   ],
   "source": [
    "#checking distribution of the data\n",
    "loan.describe()"
   ]
  },
  {
   "cell_type": "code",
   "execution_count": 371,
   "id": "40d117bb",
   "metadata": {},
   "outputs": [
    {
     "name": "stdout",
     "output_type": "stream",
     "text": [
      "credit_history: ['critical' 'repaid' 'delayed' 'fully repaid' 'fully repaid this bank']\n",
      "purpose: ['radio/tv' 'education' 'furniture' 'car (new)' 'car (used)' 'business'\n",
      " 'domestic appliances' 'repairs' 'others' 'retraining']\n",
      "employment_length: ['13 years' '2 years' '5 years' '3 years' '11 years' '4 years' nan\n",
      " '6 months' '5 months' '16 years' '1 years' '17 years' '3 months'\n",
      " '9 years' '4 months' '10 years' '10 months' '1 months' '7 months'\n",
      " '19 years' '7 years' '14 years' '18 years' '0 months' '15 years'\n",
      " '9 months' '6 years' '8 years' '12 years' '11 months' '2 months'\n",
      " '8 months']\n",
      "personal_status: ['single' nan 'divorced' 'married']\n",
      "other_debtors: ['none' 'guarantor' 'co-applicant']\n",
      "residence_history: ['6 years' '5 months' '4 years' '13 years' '8 years' '12 years' '3 months'\n",
      " '24 years' '10 months' nan '10 years' '19 years' '0 months' '7 years'\n",
      " '3 years' '8 months' '7 months' '14 years' '1 years' '16 years'\n",
      " '6 months' '2 years' '20 years' '11 months' '21 years' '5 years'\n",
      " '9 months' '2 months' '15 years' '11 years' '18 years' '22 years'\n",
      " '23 years' '1 months' '9 years' '4 months' '17 years']\n",
      "property: ['real estate' 'building society savings' 'unknown/none' 'other']\n",
      "installment_plan: ['none' 'bank' 'stores']\n",
      "housing: ['own' 'for free' 'rent']\n",
      "foreign_worker: ['yes' 'no']\n",
      "job: ['skilled employee' 'unskilled resident' 'mangement self-employed'\n",
      " 'unemployed non-resident']\n",
      "gender: ['male' 'female']\n"
     ]
    }
   ],
   "source": [
    "#Checking values in the categorical columns\n",
    "for i in loan.select_dtypes('object').columns:\n",
    "    print(f\"{i}: {loan[i].unique()}\")"
   ]
  },
  {
   "cell_type": "markdown",
   "id": "2e258dba",
   "metadata": {},
   "source": [
    "### B.Dealing with missing values"
   ]
  },
  {
   "cell_type": "code",
   "execution_count": 372,
   "id": "133a62f4",
   "metadata": {},
   "outputs": [
    {
     "data": {
      "text/plain": [
       "telephone            596\n",
       "checking_balance     394\n",
       "personal_status      310\n",
       "savings_balance      183\n",
       "residence_history    130\n",
       "employment_length     62\n",
       "installment_plan       0\n",
       "dtype: int64"
      ]
     },
     "execution_count": 372,
     "metadata": {},
     "output_type": "execute_result"
    }
   ],
   "source": [
    "#checking for missing values\n",
    "loan.isnull().sum().sort_values(ascending=False)[:7]"
   ]
  },
  {
   "cell_type": "code",
   "execution_count": 375,
   "id": "1cffca7e",
   "metadata": {},
   "outputs": [
    {
     "data": {
      "text/plain": [
       "default                 1.000000\n",
       "months_loan_duration    0.214927\n",
       "amount                  0.154739\n",
       "installment_rate        0.072404\n",
       "telephone               0.059624\n",
       "dependents             -0.003015\n",
       "existing_credits       -0.045732\n",
       "age                    -0.091127\n",
       "savings_balance        -0.097332\n",
       "checking_balance       -0.147594\n",
       "Name: default, dtype: float64"
      ]
     },
     "execution_count": 375,
     "metadata": {},
     "output_type": "execute_result"
    }
   ],
   "source": [
    "#Correlatio between variables\n",
    "loan.corr()['default'].sort_values(ascending=False)"
   ]
  },
  {
   "cell_type": "code",
   "execution_count": 376,
   "id": "d5ccb4e1",
   "metadata": {},
   "outputs": [
    {
     "data": {
      "text/plain": [
       "0    2 years\n",
       "Name: residence_history, dtype: object"
      ]
     },
     "execution_count": 376,
     "metadata": {},
     "output_type": "execute_result"
    }
   ],
   "source": [
    "loan.residence_history.mode()"
   ]
  },
  {
   "cell_type": "code",
   "execution_count": 377,
   "id": "5ca91647",
   "metadata": {},
   "outputs": [
    {
     "data": {
      "text/plain": [
       "telephone               596\n",
       "checking_balance        394\n",
       "personal_status         310\n",
       "savings_balance         183\n",
       "residence_history       130\n",
       "employment_length        62\n",
       "installment_plan          0\n",
       "job                       0\n",
       "foreign_worker            0\n",
       "dependents                0\n",
       "default                   0\n",
       "existing_credits          0\n",
       "housing                   0\n",
       "property                  0\n",
       "age                       0\n",
       "months_loan_duration      0\n",
       "other_debtors             0\n",
       "installment_rate          0\n",
       "amount                    0\n",
       "purpose                   0\n",
       "credit_history            0\n",
       "gender                    0\n",
       "dtype: int64"
      ]
     },
     "execution_count": 377,
     "metadata": {},
     "output_type": "execute_result"
    }
   ],
   "source": [
    "#Checking columns left with missing values\n",
    "loan.isnull().sum().sort_values(ascending=False)"
   ]
  },
  {
   "cell_type": "code",
   "execution_count": 378,
   "id": "1a2b1454",
   "metadata": {},
   "outputs": [],
   "source": [
    "#The telephone column would be dropped becauase it doesn't have relevance to the model\n",
    "loan.drop('telephone',axis=1,inplace=True)"
   ]
  },
  {
   "cell_type": "code",
   "execution_count": 379,
   "id": "1e425a2c",
   "metadata": {
    "scrolled": true
   },
   "outputs": [
    {
     "data": {
      "text/plain": [
       "Index(['checking_balance', 'months_loan_duration', 'credit_history', 'purpose',\n",
       "       'amount', 'savings_balance', 'employment_length', 'installment_rate',\n",
       "       'personal_status', 'other_debtors', 'residence_history', 'property',\n",
       "       'age', 'installment_plan', 'housing', 'existing_credits', 'default',\n",
       "       'dependents', 'foreign_worker', 'job', 'gender'],\n",
       "      dtype='object')"
      ]
     },
     "execution_count": 379,
     "metadata": {},
     "output_type": "execute_result"
    }
   ],
   "source": [
    "loan.columns"
   ]
  },
  {
   "cell_type": "code",
   "execution_count": 380,
   "id": "b595f1e4",
   "metadata": {},
   "outputs": [
    {
     "name": "stderr",
     "output_type": "stream",
     "text": [
      "C:\\Users\\yusuf\\AppData\\Local\\Temp\\ipykernel_10008\\3782244508.py:7: SettingWithCopyWarning: \n",
      "A value is trying to be set on a copy of a slice from a DataFrame\n",
      "\n",
      "See the caveats in the documentation: https://pandas.pydata.org/pandas-docs/stable/user_guide/indexing.html#returning-a-view-versus-a-copy\n",
      "  loan['employment_length'].loc[loan['employment_length'].isna()]=loan['employment_length'].mode()[0]\n"
     ]
    }
   ],
   "source": [
    "#filling missing values in some columns\n",
    "loan.personal_status.fillna(loan.personal_status.mode()[0],inplace=True)\n",
    "loan['credit_history'].fillna(loan['credit_history'].mode()[0])\n",
    "loan['checking_balance']=loan.checking_balance.fillna(loan.checking_balance.mean())\n",
    "loan.loc[loan['residence_history'].isna(),'residence_history']=loan.residence_history.mode()[0]\n",
    "loan['savings_balance'].fillna(loan.savings_balance.mean(),inplace=True)\n",
    "loan['employment_length'].loc[loan['employment_length'].isna()]=loan['employment_length'].mode()[0]\n",
    "loan.loc[loan['savings_balance'].isna(), 'savings_balance'] = loan['savings_balance'].mean()"
   ]
  },
  {
   "cell_type": "code",
   "execution_count": 381,
   "id": "7a099be2",
   "metadata": {},
   "outputs": [
    {
     "data": {
      "text/plain": [
       "0"
      ]
     },
     "execution_count": 381,
     "metadata": {},
     "output_type": "execute_result"
    }
   ],
   "source": [
    "loan.checking_balance.isnull().sum()"
   ]
  },
  {
   "cell_type": "code",
   "execution_count": 383,
   "id": "647eff4c",
   "metadata": {
    "scrolled": true
   },
   "outputs": [
    {
     "data": {
      "text/plain": [
       "checking_balance        0\n",
       "months_loan_duration    0\n",
       "credit_history          0\n",
       "purpose                 0\n",
       "amount                  0\n",
       "savings_balance         0\n",
       "employment_length       0\n",
       "installment_rate        0\n",
       "personal_status         0\n",
       "other_debtors           0\n",
       "residence_history       0\n",
       "property                0\n",
       "age                     0\n",
       "installment_plan        0\n",
       "housing                 0\n",
       "existing_credits        0\n",
       "default                 0\n",
       "dependents              0\n",
       "foreign_worker          0\n",
       "job                     0\n",
       "gender                  0\n",
       "dtype: int64"
      ]
     },
     "execution_count": 383,
     "metadata": {},
     "output_type": "execute_result"
    }
   ],
   "source": [
    "loan.isnull().sum()"
   ]
  },
  {
   "cell_type": "code",
   "execution_count": 384,
   "id": "d55bd9e9",
   "metadata": {
    "scrolled": true
   },
   "outputs": [
    {
     "data": {
      "image/png": "[encoded data removed]",
      "text/plain": [
       "<Figure size 432x288 with 1 Axes>"
      ]
     },
     "metadata": {
      "needs_background": "light"
     },
     "output_type": "display_data"
    }
   ],
   "source": [
    "sns.countplot(x='job',hue='default',data=loan)\n",
    "plt.xticks(rotation=90);"
   ]
  },
  {
   "cell_type": "code",
   "execution_count": 385,
   "id": "5021ec1f",
   "metadata": {},
   "outputs": [
    {
     "data": {
      "image/png": "[encoded data removed]",
      "text/plain": [
       "<Figure size 432x288 with 1 Axes>"
      ]
     },
     "metadata": {
      "needs_background": "light"
     },
     "output_type": "display_data"
    }
   ],
   "source": [
    "sns.countplot(x='gender',hue='default',data=loan);"
   ]
  },
  {
   "cell_type": "code",
   "execution_count": 386,
   "id": "ab03910b",
   "metadata": {},
   "outputs": [
    {
     "data": {
      "image/png": "[encoded data removed]",
      "text/plain": [
       "<Figure size 432x288 with 1 Axes>"
      ]
     },
     "metadata": {
      "needs_background": "light"
     },
     "output_type": "display_data"
    }
   ],
   "source": [
    "loan['purpose'].hist()\n",
    "plt.xticks(rotation=90);"
   ]
  },
  {
   "cell_type": "markdown",
   "id": "4b094c72",
   "metadata": {},
   "source": [
    "#### c.Dealing with the Categorical Varaibles"
   ]
  },
  {
   "cell_type": "code",
   "execution_count": 387,
   "id": "2a00fa02",
   "metadata": {},
   "outputs": [
    {
     "data": {
      "text/plain": [
       "Index(['credit_history', 'purpose', 'employment_length', 'personal_status',\n",
       "       'other_debtors', 'residence_history', 'property', 'installment_plan',\n",
       "       'housing', 'foreign_worker', 'job', 'gender'],\n",
       "      dtype='object')"
      ]
     },
     "execution_count": 387,
     "metadata": {},
     "output_type": "execute_result"
    }
   ],
   "source": [
    "#Categorical variables\n",
    "loan.select_dtypes('object').columns"
   ]
  },
  {
   "cell_type": "code",
   "execution_count": 388,
   "id": "2cb9c55e",
   "metadata": {},
   "outputs": [],
   "source": [
    "#Changing employment length to numerical column years and months into years by dividing by 12\n",
    "loan.loc[loan['employment_length'].str.contains('months').fillna(False), 'employment_length'] = loan.loc[loan['employment_length'].str.contains('months').fillna(False), 'employment_length'].str.split(' ').str[0].astype(float) / 12\n",
    "\n",
    "loan.loc[loan['employment_length'].str.contains('years').fillna(False), 'employment_length'] = loan.loc[loan['employment_length'].str.contains('years').fillna(False), 'employment_length'].str.split(' ').str[0].astype(float)\n"
   ]
  },
  {
   "cell_type": "code",
   "execution_count": 389,
   "id": "7493d4ab",
   "metadata": {
    "scrolled": true
   },
   "outputs": [
    {
     "data": {
      "text/plain": [
       "array([13.0, 2.0, 5.0, 3.0, 11.0, 4.0, 1.0, 0.5, 0.4166666666666667, 16.0,\n",
       "       17.0, 0.25, 9.0, 0.3333333333333333, 10.0, 0.8333333333333334,\n",
       "       0.08333333333333333, 0.5833333333333334, 19.0, 7.0, 14.0, 18.0,\n",
       "       0.0, 15.0, 0.75, 6.0, 8.0, 12.0, 0.9166666666666666,\n",
       "       0.16666666666666666, 0.6666666666666666], dtype=object)"
      ]
     },
     "execution_count": 389,
     "metadata": {},
     "output_type": "execute_result"
    }
   ],
   "source": [
    "#verifying that it has worked\n",
    "loan.employment_length.unique()"
   ]
  },
  {
   "cell_type": "code",
   "execution_count": 390,
   "id": "65b884dc",
   "metadata": {},
   "outputs": [],
   "source": [
    "#Filling those with 0 months now nan values with 0\n",
    "loan.employment_length.fillna(0,inplace=True)"
   ]
  },
  {
   "cell_type": "code",
   "execution_count": 391,
   "id": "fccbdec6",
   "metadata": {
    "scrolled": true
   },
   "outputs": [
    {
     "data": {
      "text/plain": [
       "Index(['credit_history', 'purpose', 'personal_status', 'other_debtors',\n",
       "       'residence_history', 'property', 'installment_plan', 'housing',\n",
       "       'foreign_worker', 'job', 'gender'],\n",
       "      dtype='object')"
      ]
     },
     "execution_count": 391,
     "metadata": {},
     "output_type": "execute_result"
    }
   ],
   "source": [
    "#checking the categorical variables left\n",
    "loan.select_dtypes('object').columns"
   ]
  },
  {
   "cell_type": "code",
   "execution_count": 392,
   "id": "358933e9",
   "metadata": {
    "scrolled": true
   },
   "outputs": [
    {
     "name": "stdout",
     "output_type": "stream",
     "text": [
      "credit_history: ['critical' 'repaid' 'delayed' 'fully repaid' 'fully repaid this bank']\n",
      "purpose: ['radio/tv' 'education' 'furniture' 'car (new)' 'car (used)' 'business'\n",
      " 'domestic appliances' 'repairs' 'others' 'retraining']\n",
      "personal_status: ['single' 'divorced' 'married']\n",
      "other_debtors: ['none' 'guarantor' 'co-applicant']\n",
      "residence_history: ['6 years' '5 months' '4 years' '13 years' '8 years' '12 years' '3 months'\n",
      " '24 years' '10 months' '2 years' '10 years' '19 years' '0 months'\n",
      " '7 years' '3 years' '8 months' '7 months' '14 years' '1 years' '16 years'\n",
      " '6 months' '20 years' '11 months' '21 years' '5 years' '9 months'\n",
      " '2 months' '15 years' '11 years' '18 years' '22 years' '23 years'\n",
      " '1 months' '9 years' '4 months' '17 years']\n",
      "property: ['real estate' 'building society savings' 'unknown/none' 'other']\n",
      "installment_plan: ['none' 'bank' 'stores']\n",
      "housing: ['own' 'for free' 'rent']\n",
      "foreign_worker: ['yes' 'no']\n",
      "job: ['skilled employee' 'unskilled resident' 'mangement self-employed'\n",
      " 'unemployed non-resident']\n",
      "gender: ['male' 'female']\n"
     ]
    }
   ],
   "source": [
    "#values in the categorical variable\n",
    "for i in loan.select_dtypes('object').columns:\n",
    "    print(f\"{i}: {loan[i].unique()}\")"
   ]
  },
  {
   "cell_type": "code",
   "execution_count": 393,
   "id": "dfa91e5e",
   "metadata": {},
   "outputs": [],
   "source": [
    "#Turning Categorical to numerical variables suitable for ML model\n",
    "loan['gender']=loan['gender'].map({'male':1,'female':0})\n",
    "loan['foreign_worker']=loan['foreign_worker'].map({'yes':1,'no':0})\n",
    "loan['installment_plan']=loan['installment_plan'].map({'bank':1,'none':0,'stores':2})\n",
    "loan['housing']=loan['housing'].map({'own':1,'for free':0,'rent':2})\n",
    "loan['other_debtors']=loan['other_debtors'].map({'none':0, 'guarantor':1, 'co-applicant':2})\n",
    "loan['personal_status']=loan['personal_status'].map({'single':0, 'divorced':1, 'married':2})"
   ]
  },
  {
   "cell_type": "code",
   "execution_count": 394,
   "id": "88f61276",
   "metadata": {
    "scrolled": true
   },
   "outputs": [
    {
     "name": "stdout",
     "output_type": "stream",
     "text": [
      "credit_history: ['critical' 'repaid' 'delayed' 'fully repaid' 'fully repaid this bank']\n",
      "purpose: ['radio/tv' 'education' 'furniture' 'car (new)' 'car (used)' 'business'\n",
      " 'domestic appliances' 'repairs' 'others' 'retraining']\n",
      "residence_history: ['6 years' '5 months' '4 years' '13 years' '8 years' '12 years' '3 months'\n",
      " '24 years' '10 months' '2 years' '10 years' '19 years' '0 months'\n",
      " '7 years' '3 years' '8 months' '7 months' '14 years' '1 years' '16 years'\n",
      " '6 months' '20 years' '11 months' '21 years' '5 years' '9 months'\n",
      " '2 months' '15 years' '11 years' '18 years' '22 years' '23 years'\n",
      " '1 months' '9 years' '4 months' '17 years']\n",
      "property: ['real estate' 'building society savings' 'unknown/none' 'other']\n",
      "job: ['skilled employee' 'unskilled resident' 'mangement self-employed'\n",
      " 'unemployed non-resident']\n"
     ]
    }
   ],
   "source": [
    "for i in loan.select_dtypes('object').columns:\n",
    "    print(f\"{i}: {loan[i].unique()}\")"
   ]
  },
  {
   "cell_type": "code",
   "execution_count": 395,
   "id": "cc929f5d",
   "metadata": {},
   "outputs": [],
   "source": [
    "#dropping irrelevant column that won't be too relevant to the model\n",
    "loan.drop('residence_history',axis=1,inplace=True)"
   ]
  },
  {
   "cell_type": "code",
   "execution_count": 396,
   "id": "cdba9000",
   "metadata": {},
   "outputs": [],
   "source": [
    "#One hot encoding\n",
    "loanforml=pd.get_dummies(loan)"
   ]
  },
  {
   "cell_type": "code",
   "execution_count": 397,
   "id": "85ebe9e8",
   "metadata": {
    "scrolled": true
   },
   "outputs": [
    {
     "name": "stdout",
     "output_type": "stream",
     "text": [
      "<class 'pandas.core.frame.DataFrame'>\n",
      "Int64Index: 1000 entries, 0 to 999\n",
      "Data columns (total 39 columns):\n",
      " #   Column                                 Non-Null Count  Dtype  \n",
      "---  ------                                 --------------  -----  \n",
      " 0   checking_balance                       1000 non-null   float64\n",
      " 1   months_loan_duration                   1000 non-null   int64  \n",
      " 2   amount                                 1000 non-null   int64  \n",
      " 3   savings_balance                        1000 non-null   float64\n",
      " 4   employment_length                      1000 non-null   float64\n",
      " 5   installment_rate                       1000 non-null   int64  \n",
      " 6   personal_status                        1000 non-null   int64  \n",
      " 7   other_debtors                          1000 non-null   int64  \n",
      " 8   age                                    1000 non-null   int64  \n",
      " 9   installment_plan                       1000 non-null   int64  \n",
      " 10  housing                                1000 non-null   int64  \n",
      " 11  existing_credits                       1000 non-null   int64  \n",
      " 12  default                                1000 non-null   int64  \n",
      " 13  dependents                             1000 non-null   int64  \n",
      " 14  foreign_worker                         1000 non-null   int64  \n",
      " 15  gender                                 1000 non-null   int64  \n",
      " 16  credit_history_critical                1000 non-null   uint8  \n",
      " 17  credit_history_delayed                 1000 non-null   uint8  \n",
      " 18  credit_history_fully repaid            1000 non-null   uint8  \n",
      " 19  credit_history_fully repaid this bank  1000 non-null   uint8  \n",
      " 20  credit_history_repaid                  1000 non-null   uint8  \n",
      " 21  purpose_business                       1000 non-null   uint8  \n",
      " 22  purpose_car (new)                      1000 non-null   uint8  \n",
      " 23  purpose_car (used)                     1000 non-null   uint8  \n",
      " 24  purpose_domestic appliances            1000 non-null   uint8  \n",
      " 25  purpose_education                      1000 non-null   uint8  \n",
      " 26  purpose_furniture                      1000 non-null   uint8  \n",
      " 27  purpose_others                         1000 non-null   uint8  \n",
      " 28  purpose_radio/tv                       1000 non-null   uint8  \n",
      " 29  purpose_repairs                        1000 non-null   uint8  \n",
      " 30  purpose_retraining                     1000 non-null   uint8  \n",
      " 31  property_building society savings      1000 non-null   uint8  \n",
      " 32  property_other                         1000 non-null   uint8  \n",
      " 33  property_real estate                   1000 non-null   uint8  \n",
      " 34  property_unknown/none                  1000 non-null   uint8  \n",
      " 35  job_mangement self-employed            1000 non-null   uint8  \n",
      " 36  job_skilled employee                   1000 non-null   uint8  \n",
      " 37  job_unemployed non-resident            1000 non-null   uint8  \n",
      " 38  job_unskilled resident                 1000 non-null   uint8  \n",
      "dtypes: float64(3), int64(13), uint8(23)\n",
      "memory usage: 155.3 KB\n"
     ]
    }
   ],
   "source": [
    "loanforml.info()"
   ]
  },
  {
   "cell_type": "code",
   "execution_count": 398,
   "id": "b3a6c73c",
   "metadata": {},
   "outputs": [],
   "source": [
    "#spliting the dataset into X and y\n",
    "X=loanforml.drop('default',axis=1)\n",
    "y=loan.default"
   ]
  },
  {
   "cell_type": "code",
   "execution_count": 399,
   "id": "2ec22121",
   "metadata": {},
   "outputs": [
    {
     "data": {
      "text/plain": [
       "checking_balance                         0\n",
       "months_loan_duration                     0\n",
       "amount                                   0\n",
       "savings_balance                          0\n",
       "employment_length                        0\n",
       "installment_rate                         0\n",
       "personal_status                          0\n",
       "other_debtors                            0\n",
       "age                                      0\n",
       "installment_plan                         0\n",
       "housing                                  0\n",
       "existing_credits                         0\n",
       "dependents                               0\n",
       "foreign_worker                           0\n",
       "gender                                   0\n",
       "credit_history_critical                  0\n",
       "credit_history_delayed                   0\n",
       "credit_history_fully repaid              0\n",
       "credit_history_fully repaid this bank    0\n",
       "credit_history_repaid                    0\n",
       "purpose_business                         0\n",
       "purpose_car (new)                        0\n",
       "purpose_car (used)                       0\n",
       "purpose_domestic appliances              0\n",
       "purpose_education                        0\n",
       "purpose_furniture                        0\n",
       "purpose_others                           0\n",
       "purpose_radio/tv                         0\n",
       "purpose_repairs                          0\n",
       "purpose_retraining                       0\n",
       "property_building society savings        0\n",
       "property_other                           0\n",
       "property_real estate                     0\n",
       "property_unknown/none                    0\n",
       "job_mangement self-employed              0\n",
       "job_skilled employee                     0\n",
       "job_unemployed non-resident              0\n",
       "job_unskilled resident                   0\n",
       "dtype: int64"
      ]
     },
     "execution_count": 399,
     "metadata": {},
     "output_type": "execute_result"
    }
   ],
   "source": [
    "#confirming there are no more null values\n",
    "X.isnull().sum()"
   ]
  },
  {
   "cell_type": "code",
   "execution_count": 400,
   "id": "28ffefe7",
   "metadata": {},
   "outputs": [],
   "source": [
    "#importing train test split\n",
    "from sklearn.model_selection import train_test_split"
   ]
  },
  {
   "cell_type": "code",
   "execution_count": 401,
   "id": "a93954b9",
   "metadata": {},
   "outputs": [],
   "source": [
    "#spliting model into training and testing set\n",
    "X_train, X_test, y_train, y_test = train_test_split(X, y, test_size=0.33, random_state=42)"
   ]
  },
  {
   "cell_type": "code",
   "execution_count": 402,
   "id": "19110c0b",
   "metadata": {},
   "outputs": [],
   "source": [
    "#IMPORTING MACHINE LEARNING LIBRARIES\n",
    "from sklearn.ensemble import RandomForestClassifier\n",
    "from sklearn.ensemble import GradientBoostingClassifier\n",
    "import xgboost as xgb\n",
    "import lightgbm as lgb\n",
    "from sklearn.model_selection import GridSearchCV"
   ]
  },
  {
   "cell_type": "markdown",
   "id": "731b6111",
   "metadata": {},
   "source": [
    "##### MODEL OPTIMIZATION"
   ]
  },
  {
   "cell_type": "code",
   "execution_count": 403,
   "id": "cb4fe70c",
   "metadata": {},
   "outputs": [
    {
     "name": "stdout",
     "output_type": "stream",
     "text": [
      "Best Parameters: {'learning_rate': 0.05, 'max_depth': 3, 'n_estimators': 200}\n",
      "Best Score: 0.7529999999999999\n"
     ]
    }
   ],
   "source": [
    "# Defining parameters for Gradient Boosting Model\n",
    "gradparam_grid = {\n",
    "    'n_estimators': [100, 200, 300],\n",
    "    'learning_rate': [0.1, 0.05, 0.01],\n",
    "    'max_depth': [3, 5, 7]\n",
    "}\n",
    "\n",
    "# Initializing the Gradient Boosting model\n",
    "gradientmodel = GradientBoostingClassifier()\n",
    "\n",
    "# Performing grid search with cross-validation\n",
    "grid_search = GridSearchCV(gradientmodel, gradparam_grid, cv=5)\n",
    "\n",
    "# Fit the grid search to the data\n",
    "grid_search.fit(X, y)\n",
    "\n",
    "# Get the best parameters and best score\n",
    "best_params = grid_search.best_params_\n",
    "best_score = grid_search.best_score_\n",
    "\n",
    "print(\"Best Parameters:\", best_params)\n",
    "print(\"Best Score:\", best_score)"
   ]
  },
  {
   "cell_type": "code",
   "execution_count": 404,
   "id": "35680066",
   "metadata": {},
   "outputs": [
    {
     "name": "stdout",
     "output_type": "stream",
     "text": [
      "Best Parameters: {'colsample_bytree': 0.8, 'learning_rate': 0.1, 'max_depth': 5, 'n_estimators': 100, 'subsample': 1.0}\n",
      "Best Score: 0.763\n"
     ]
    }
   ],
   "source": [
    "# # Defining parameters for XGBoost Model\n",
    "xgbparam_grid = {\n",
    "    'learning_rate': [0.1, 0.01],\n",
    "    'max_depth': [3, 5, 7],\n",
    "    'n_estimators': [100, 200, 300],\n",
    "    'subsample': [0.8, 1.0],\n",
    "    'colsample_bytree': [0.8, 1.0]\n",
    "}\n",
    "\n",
    "# Initializing the XGBoost model\n",
    "xgbmodel = xgb.XGBClassifier()\n",
    "\n",
    "# Performing grid search with cross-validation\n",
    "grid_search = GridSearchCV(xgbmodel, xgbparam_grid, cv=5)\n",
    "\n",
    "# Fit the grid search to the data\n",
    "grid_search.fit(X, y)\n",
    "\n",
    "# Get the best parameters and best score\n",
    "best_params = grid_search.best_params_\n",
    "best_score = grid_search.best_score_\n",
    "\n",
    "print(\"Best Parameters:\", best_params)\n",
    "print(\"Best Score:\", best_score)\n"
   ]
  },
  {
   "cell_type": "code",
   "execution_count": 405,
   "id": "e79ad0d0",
   "metadata": {},
   "outputs": [
    {
     "name": "stdout",
     "output_type": "stream",
     "text": [
      "Best Parameters: {'colsample_bytree': 0.8, 'learning_rate': 0.1, 'max_depth': 3, 'n_estimators': 200, 'subsample': 0.8}\n",
      "Best Score: 0.7539999999999999\n"
     ]
    }
   ],
   "source": [
    "# Define the parameter grid for tuning\n",
    "lightparam_grid = {\n",
    "    'learning_rate': [0.1, 0.01],\n",
    "    'max_depth': [3, 5, 7],\n",
    "    'n_estimators': [100, 200, 300],\n",
    "    'subsample': [0.8, 1.0],\n",
    "    'colsample_bytree': [0.8, 1.0]\n",
    "}\n",
    "\n",
    "# Initialize the LightGBM model\n",
    "lightmodel = lgb.LGBMClassifier()\n",
    "\n",
    "# Perform grid search with cross-validation\n",
    "grid_search = GridSearchCV(lightmodel, lightparam_grid, cv=5)\n",
    "\n",
    "# Fit the grid search to the data\n",
    "grid_search.fit(X, y)\n",
    "\n",
    "# Get the best parameters and best score\n",
    "best_params = grid_search.best_params_\n",
    "best_score = grid_search.best_score_\n",
    "\n",
    "print(\"Best Parameters:\", best_params)\n",
    "print(\"Best Score:\", best_score)\n"
   ]
  },
  {
   "cell_type": "code",
   "execution_count": 406,
   "id": "ae03f318",
   "metadata": {},
   "outputs": [
    {
     "name": "stdout",
     "output_type": "stream",
     "text": [
      "Best Parameters: {'max_depth': 10, 'min_samples_leaf': 1, 'min_samples_split': 2, 'n_estimators': 100}\n",
      "Best Score: 0.758\n"
     ]
    }
   ],
   "source": [
    "# Defining parameters for Gradient Boosting Model\n",
    "randparam_grid = {\n",
    "    'n_estimators': [100, 200, 300],\n",
    "    'max_depth': [None, 5, 10],\n",
    "    'min_samples_split': [2, 5, 10],\n",
    "    'min_samples_leaf': [1, 2, 4]\n",
    "}\n",
    "\n",
    "# Initialize the Random Forest model\n",
    "randmodel = RandomForestClassifier()\n",
    "\n",
    "# Perform grid search with cross-validation\n",
    "grid_search = GridSearchCV(randmodel, randparam_grid, cv=5)\n",
    "\n",
    "# Fit the grid search to the data\n",
    "grid_search.fit(X, y)\n",
    "\n",
    "# Get the best parameters and best score\n",
    "best_params = grid_search.best_params_\n",
    "best_score = grid_search.best_score_\n",
    "\n",
    "print(\"Best Parameters:\", best_params)\n",
    "print(\"Best Score:\", best_score)\n"
   ]
  },
  {
   "cell_type": "code",
   "execution_count": 407,
   "id": "c4c95923",
   "metadata": {
    "scrolled": true
   },
   "outputs": [
    {
     "name": "stdout",
     "output_type": "stream",
     "text": [
      "GradientBoostingClassifier accuracy: 0.7454545454545455\n",
      "XGBClassifier accuracy: 0.7424242424242424\n",
      "lightGBMClassifier accuracy: 0.7727272727272727\n"
     ]
    }
   ],
   "source": [
    "from sklearn.metrics import accuracy_score\n",
    "#Checking for the model with the best accuracy to choose from\n",
    "\n",
    "# Dictionary with models\n",
    "models = {\n",
    "    'GradientBoostingClassifier': GradientBoostingClassifier(learning_rate=0.05, max_depth=5, n_estimators=200),\n",
    "     'XGBClassifier': xgb.XGBClassifier(colsample_bytree=0.8, learning_rate=0.1, max_depth=5, n_estimators=100, subsample=1.0),\n",
    "    'lightGBMClassifier': lgb.LGBMClassifier(colsample_bytree=0.8, learning_rate=0.1, max_depth=3, n_estimators=200, subsample=0.8)\n",
    "}\n",
    "\n",
    "best_accuracy = 0.0\n",
    "best_model_name = ''\n",
    "\n",
    "# iterating over items in the dictionoary\n",
    "for model_name, model in models.items():\n",
    "    # Train the model\n",
    "    model.fit(X_train, y_train)\n",
    "\n",
    "    # Make predictions\n",
    "    y_pred = model.predict(X_test)\n",
    "\n",
    "    # accuracy score of the model\n",
    "    accuracy = accuracy_score(y_test, y_pred)\n",
    "\n",
    "    print(f\"{model_name} accuracy: {accuracy}\")\n",
    "\n"
   ]
  },
  {
   "cell_type": "code",
   "execution_count": 408,
   "id": "a1e1b098",
   "metadata": {},
   "outputs": [],
   "source": [
    "#Using the best performing model to make predictions\n",
    "model=lgb.LGBMClassifier(colsample_bytree=0.8, learning_rate=0.1, max_depth=3, n_estimators=200, subsample=0.8)\n",
    "model.fit(X_train,y_train)\n",
    "predictions=model.predict(X_test)"
   ]
  },
  {
   "cell_type": "code",
   "execution_count": 409,
   "id": "3368e7d3",
   "metadata": {},
   "outputs": [
    {
     "name": "stdout",
     "output_type": "stream",
     "text": [
      "0.7727272727272727\n"
     ]
    }
   ],
   "source": [
    "print(accuracy_score(y_test,predictions))"
   ]
  },
  {
   "cell_type": "code",
   "execution_count": 410,
   "id": "ea31bc48",
   "metadata": {},
   "outputs": [],
   "source": [
    "from sklearn.metrics import confusion_matrix,classification_report"
   ]
  },
  {
   "cell_type": "code",
   "execution_count": 411,
   "id": "2b5fc19a",
   "metadata": {},
   "outputs": [
    {
     "name": "stdout",
     "output_type": "stream",
     "text": [
      "              precision    recall  f1-score   support\n",
      "\n",
      "           0       0.80      0.90      0.85       229\n",
      "           1       0.68      0.49      0.57       101\n",
      "\n",
      "    accuracy                           0.77       330\n",
      "   macro avg       0.74      0.69      0.71       330\n",
      "weighted avg       0.76      0.77      0.76       330\n",
      "\n"
     ]
    }
   ],
   "source": [
    "print(classification_report(y_test,predictions))"
   ]
  },
  {
   "cell_type": "code",
   "execution_count": 412,
   "id": "98401c65",
   "metadata": {},
   "outputs": [
    {
     "name": "stdout",
     "output_type": "stream",
     "text": [
      "[[206  23]\n",
      " [ 52  49]]\n"
     ]
    }
   ],
   "source": [
    "print(confusion_matrix(y_test,predictions))"
   ]
  }
 ],
 "metadata": {
  "kernelspec": {
   "display_name": "Python 3 (ipykernel)",
   "language": "python",
   "name": "python3"
  },
  "language_info": {
   "codemirror_mode": {
    "name": "ipython",
    "version": 3
   },
   "file_extension": ".py",
   "mimetype": "text/x-python",
   "name": "python",
   "nbconvert_exporter": "python",
   "pygments_lexer": "ipython3",
   "version": "3.9.12"
  }
 },
 "nbformat": 4,
 "nbformat_minor": 5
}
